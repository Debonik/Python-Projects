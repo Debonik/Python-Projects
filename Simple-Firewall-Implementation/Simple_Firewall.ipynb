{
  "nbformat": 4,
  "nbformat_minor": 0,
  "metadata": {
    "colab": {
      "provenance": [],
      "authorship_tag": "ABX9TyPu061rr5QbtnTiDtjcAUj+",
      "include_colab_link": true
    },
    "kernelspec": {
      "name": "python3",
      "display_name": "Python 3"
    },
    "language_info": {
      "name": "python"
    }
  },
  "cells": [
    {
      "cell_type": "markdown",
      "metadata": {
        "id": "view-in-github",
        "colab_type": "text"
      },
      "source": [
        "<a href=\"https://colab.research.google.com/github/Debonik/Python-Projects/blob/main/Simple-Firewall-Implementation/Simple_Firewall.ipynb\" target=\"_parent\"><img src=\"https://colab.research.google.com/assets/colab-badge.svg\" alt=\"Open In Colab\"/></a>"
      ]
    },
    {
      "cell_type": "code",
      "execution_count": null,
      "metadata": {
        "id": "EgtFFbU2FkId"
      },
      "outputs": [],
      "source": [
        "import socket\n",
        "\n",
        "# Define rules for incoming and outgoing traffic\n",
        "incoming_rules = {'block_ports': [22, 80], 'allow_ips': ['127.0.0.1']}\n",
        "outgoing_rules = {'block_ports': [25], 'block_ips': ['192.168.1.2']}\n",
        "\n",
        "def check_incoming_traffic(ip, port):\n",
        "    if port in incoming_rules['block_ports']:\n",
        "        return False\n",
        "    if ip not in incoming_rules['allow_ips']:\n",
        "        return False\n",
        "    return True\n",
        "\n",
        "def check_outgoing_traffic(ip, port):\n",
        "    if port in outgoing_rules['block_ports']:\n",
        "        return False\n",
        "    if ip in outgoing_rules['block_ips']:\n",
        "        return False\n",
        "    return True\n",
        "\n",
        "# Block incoming traffic\n",
        "def block_incoming():\n",
        "    s = socket.socket(socket.AF_INET, socket.SOCK_STREAM)\n",
        "    s.bind(('0.0.0.0', 5000))\n",
        "    s.listen(5)\n",
        "    while True:\n",
        "        client, addr = s.accept()\n",
        "        if check_incoming_traffic(addr[0], addr[1]):\n",
        "            print(f\"Allowed incoming connection from {addr}\")\n",
        "        else:\n",
        "            print(f\"Blocked incoming connection from {addr}\")\n",
        "            client.close()\n",
        "\n",
        "# Block outgoing traffic (This is a simulated example)\n",
        "def block_outgoing():\n",
        "    destinations = [('192.168.1.2', 80), ('127.0.0.1', 8080)]\n",
        "    for ip, port in destinations:\n",
        "        if check_outgoing_traffic(ip, port):\n",
        "            print(f\"Allowed outgoing connection to {ip}:{port}\")\n",
        "        else:\n",
        "            print(f\"Blocked outgoing connection to {ip}:{port}\")\n",
        "\n",
        "if __name__ == \"__main__\":\n",
        "    block_incoming()\n",
        "    # Uncomment below to test outgoing traffic\n",
        "    # block_outgoing()"
      ]
    }
  ]
}