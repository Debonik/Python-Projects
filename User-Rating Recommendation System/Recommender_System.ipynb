{
  "nbformat": 4,
  "nbformat_minor": 0,
  "metadata": {
    "colab": {
      "provenance": [],
      "authorship_tag": "ABX9TyM0kMy8XTW2SfPJFKBvTRq4",
      "include_colab_link": true
    },
    "kernelspec": {
      "name": "python3",
      "display_name": "Python 3"
    },
    "language_info": {
      "name": "python"
    }
  },
  "cells": [
    {
      "cell_type": "markdown",
      "metadata": {
        "id": "view-in-github",
        "colab_type": "text"
      },
      "source": [
        "<a href=\"https://colab.research.google.com/github/Debonik/Python-Projects/blob/main/User-Rating%20Recommendation%20System/Recommender_System.ipynb\" target=\"_parent\"><img src=\"https://colab.research.google.com/assets/colab-badge.svg\" alt=\"Open In Colab\"/></a>"
      ]
    },
    {
      "cell_type": "code",
      "execution_count": null,
      "metadata": {
        "colab": {
          "base_uri": "https://localhost:8080/"
        },
        "id": "BYLld-F11OW5",
        "outputId": "9616df89-2766-42e4-8f0a-d424127f812c"
      },
      "outputs": [
        {
          "output_type": "stream",
          "name": "stdout",
          "text": [
            "Recommended movies for user 0:\n",
            "Movie_A: Predicted rating 5.00\n",
            "Movie_B: Predicted rating 3.00\n",
            "Movie_C: Predicted rating 2.19\n",
            "Movie_D: Predicted rating 1.00\n"
          ]
        }
      ],
      "source": [
        "import torch\n",
        "import torch.nn as nn\n",
        "import torch.optim as optim\n",
        "\n",
        "# Simulated user-movie rating matrix (5 users, 4 movies)\n",
        "# 0 indicates unknown rating\n",
        "ratings = torch.tensor([\n",
        "    [5, 3, 0, 1],\n",
        "    [4, 0, 0, 1],\n",
        "    [1, 1, 0, 5],\n",
        "    [1, 0, 0, 4],\n",
        "    [0, 1, 5, 4],\n",
        "], dtype=torch.float32)\n",
        "\n",
        "# List of movie names\n",
        "movies = [\"Movie_A\", \"Movie_B\", \"Movie_C\", \"Movie_D\"]\n",
        "\n",
        "# Hyperparameters\n",
        "num_users, num_movies = ratings.shape\n",
        "embedding_dim = 3\n",
        "num_epochs = 1000\n",
        "learning_rate = 0.01\n",
        "\n",
        "# Model\n",
        "class MatrixFactorization(nn.Module):\n",
        "    def __init__(self, num_users, num_movies, embedding_dim):\n",
        "        super(MatrixFactorization, self).__init__()\n",
        "        self.user_embedding = nn.Embedding(num_users, embedding_dim)\n",
        "        self.movie_embedding = nn.Embedding(num_movies, embedding_dim)\n",
        "\n",
        "    def forward(self, user, movie):\n",
        "        user_embedded = self.user_embedding(user)\n",
        "        movie_embedded = self.movie_embedding(movie)\n",
        "        return (user_embedded * movie_embedded).sum(1)\n",
        "\n",
        "# Initialize model, loss, and optimizer\n",
        "model = MatrixFactorization(num_users, num_movies, embedding_dim)\n",
        "criterion = nn.MSELoss()\n",
        "optimizer = optim.SGD(model.parameters(), lr=learning_rate)\n",
        "\n",
        "# Training\n",
        "for epoch in range(num_epochs):\n",
        "    for i in range(num_users):\n",
        "        for j in range(num_movies):\n",
        "            if ratings[i][j] > 0:\n",
        "                optimizer.zero_grad()\n",
        "                prediction = model(torch.tensor([i]), torch.tensor([j]))\n",
        "                loss = criterion(prediction, torch.tensor([ratings[i][j]]))\n",
        "                loss.backward()\n",
        "                optimizer.step()\n",
        "\n",
        "# Predicting for a specific user (e.g., user with index 0)\n",
        "test_user = torch.tensor([0]*num_movies)\n",
        "test_movies = torch.tensor(list(range(num_movies)))\n",
        "predictions = model(test_user, test_movies).detach().numpy()\n",
        "\n",
        "# Matching the predictions to the movie names\n",
        "recommendations = dict(zip(movies, predictions))\n",
        "sorted_recommendations = {k: v for k, v in sorted(recommendations.items(), key=lambda item: item[1], reverse=True)}\n",
        "\n",
        "print(\"Recommended movies for user 0:\")\n",
        "for movie, rating in sorted_recommendations.items():\n",
        "    print(f\"{movie}: Predicted rating {rating:.2f}\")"
      ]
    },
    {
      "cell_type": "code",
      "source": [
        "import torch\n",
        "import torch.nn as nn\n",
        "import torch.optim as optim\n",
        "\n",
        "# Simulated user-movie rating matrix (5 users, 4 movies)\n",
        "ratings = torch.tensor([\n",
        "    [5, 3, 0, 1],\n",
        "    [4, 0, 0, 1],\n",
        "    [1, 1, 0, 5],\n",
        "    [1, 0, 0, 4],\n",
        "    [0, 1, 5, 4],\n",
        "], dtype=torch.float32)\n",
        "\n",
        "# List of movie names\n",
        "movies = [\"Movie_A\", \"Movie_B\", \"Movie_C\", \"Movie_D\"]\n",
        "\n",
        "# Hyperparameters\n",
        "num_users, num_movies = ratings.shape\n",
        "embedding_dim = 3\n",
        "num_epochs = 1000\n",
        "learning_rate = 0.01\n",
        "\n",
        "# Model\n",
        "class MatrixFactorization(nn.Module):\n",
        "    def __init__(self, num_users, num_movies, embedding_dim):\n",
        "        super(MatrixFactorization, self).__init__()\n",
        "        self.user_embedding = nn.Embedding(num_users, embedding_dim)\n",
        "        self.movie_embedding = nn.Embedding(num_movies, embedding_dim)\n",
        "\n",
        "    def forward(self, user, movie):\n",
        "        user_embedded = self.user_embedding(user)\n",
        "        movie_embedded = self.movie_embedding(movie)\n",
        "        return (user_embedded * movie_embedded).sum(1)\n",
        "\n",
        "# Initialize model, loss, and optimizer\n",
        "model = MatrixFactorization(num_users, num_movies, embedding_dim)\n",
        "criterion = nn.MSELoss()\n",
        "optimizer = optim.SGD(model.parameters(), lr=learning_rate)\n",
        "\n",
        "# Training\n",
        "for epoch in range(num_epochs):\n",
        "    for i in range(num_users):\n",
        "        for j in range(num_movies):\n",
        "            if ratings[i][j] > 0:\n",
        "                optimizer.zero_grad()\n",
        "                prediction = model(torch.tensor([i]), torch.tensor([j]))\n",
        "                loss = criterion(prediction, torch.tensor([ratings[i][j]]))\n",
        "                loss.backward()\n",
        "                optimizer.step()\n",
        "\n",
        "# Predicting for multiple users (e.g., users with index 0 and 2)\n",
        "target_users = [0, 1, 2, 3]\n",
        "for user_idx in target_users:\n",
        "    test_user = torch.tensor([user_idx]*num_movies)\n",
        "    test_movies = torch.tensor(list(range(num_movies)))\n",
        "    predictions = model(test_user, test_movies).detach().numpy()\n",
        "\n",
        "    # Matching the predictions to the movie names\n",
        "    recommendations = dict(zip(movies, predictions))\n",
        "    sorted_recommendations = {k: v for k, v in sorted(recommendations.items(), key=lambda item: item[1], reverse=True)}\n",
        "\n",
        "    print(f\"Recommended movies for user {user_idx}:\")\n",
        "    for movie, rating in sorted_recommendations.items():\n",
        "        print(f\"{movie}: Predicted rating {rating:.2f}\")\n",
        "    print()"
      ],
      "metadata": {
        "colab": {
          "base_uri": "https://localhost:8080/"
        },
        "id": "8UWSRhRv9mdA",
        "outputId": "9320ca28-d228-47a5-9936-687e0a9557cb"
      },
      "execution_count": null,
      "outputs": [
        {
          "output_type": "stream",
          "name": "stdout",
          "text": [
            "Recommended movies for user 0:\n",
            "Movie_A: Predicted rating 5.00\n",
            "Movie_B: Predicted rating 3.00\n",
            "Movie_C: Predicted rating 1.07\n",
            "Movie_D: Predicted rating 1.00\n",
            "\n",
            "Recommended movies for user 1:\n",
            "Movie_A: Predicted rating 4.00\n",
            "Movie_B: Predicted rating 2.09\n",
            "Movie_D: Predicted rating 1.00\n",
            "Movie_C: Predicted rating -0.99\n",
            "\n",
            "Recommended movies for user 2:\n",
            "Movie_D: Predicted rating 5.00\n",
            "Movie_A: Predicted rating 1.00\n",
            "Movie_B: Predicted rating 1.00\n",
            "Movie_C: Predicted rating 0.46\n",
            "\n",
            "Recommended movies for user 3:\n",
            "Movie_D: Predicted rating 4.00\n",
            "Movie_A: Predicted rating 1.00\n",
            "Movie_B: Predicted rating 0.99\n",
            "Movie_C: Predicted rating 0.79\n",
            "\n"
          ]
        }
      ]
    }
  ]
}