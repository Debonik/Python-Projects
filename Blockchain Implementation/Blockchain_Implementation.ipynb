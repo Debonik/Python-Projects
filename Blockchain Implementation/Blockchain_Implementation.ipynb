{
  "nbformat": 4,
  "nbformat_minor": 0,
  "metadata": {
    "colab": {
      "provenance": [],
      "authorship_tag": "ABX9TyM67eOTxVlD0SaTVr7MmlKU",
      "include_colab_link": true
    },
    "kernelspec": {
      "name": "python3",
      "display_name": "Python 3"
    },
    "language_info": {
      "name": "python"
    }
  },
  "cells": [
    {
      "cell_type": "markdown",
      "metadata": {
        "id": "view-in-github",
        "colab_type": "text"
      },
      "source": [
        "<a href=\"https://colab.research.google.com/github/Debonik/Python-Projects/blob/main/Blockchain%20Implementation/Blockchain_Implementation.ipynb\" target=\"_parent\"><img src=\"https://colab.research.google.com/assets/colab-badge.svg\" alt=\"Open In Colab\"/></a>"
      ]
    },
    {
      "cell_type": "code",
      "execution_count": 4,
      "metadata": {
        "colab": {
          "base_uri": "https://localhost:8080/"
        },
        "id": "jKsk2_JP9IjF",
        "outputId": "72704cdb-4c8b-4e1d-e1ca-819be888ca2f"
      },
      "outputs": [
        {
          "output_type": "stream",
          "name": "stdout",
          "text": [
            "Blockchain is valid\n",
            "Block 0:\n",
            "  Timestamp: 1693223702.6068294\n",
            "  Data: Genesis Block\n",
            "  Previous Hash: 0\n",
            "  Hash: 724f6af49ba291e103e61fae26dd965de854bddbe144528c8f43a5cd69a327ec\n",
            "------------------------------\n",
            "Block 1:\n",
            "  Timestamp: 1693223702.6070192\n",
            "  Data: Nemesis Block\n",
            "  Previous Hash: 724f6af49ba291e103e61fae26dd965de854bddbe144528c8f43a5cd69a327ec\n",
            "  Hash: 0e3d4fbd53d56d905b92c2f4b063922e01a3a233f7caa432fe9eddd37b179bbd\n",
            "------------------------------\n",
            "Block 2:\n",
            "  Timestamp: 1693223702.6071048\n",
            "  Data: Socket Run Block\n",
            "  Previous Hash: 0e3d4fbd53d56d905b92c2f4b063922e01a3a233f7caa432fe9eddd37b179bbd\n",
            "  Hash: 48f0b91b6f7d1cccfd6b1574d0062233f963b9a53658c1b053530ac812cfbfa0\n",
            "------------------------------\n",
            "Block 3:\n",
            "  Timestamp: 1693223702.6071746\n",
            "  Data: Custom Action Block\n",
            "  Previous Hash: 48f0b91b6f7d1cccfd6b1574d0062233f963b9a53658c1b053530ac812cfbfa0\n",
            "  Hash: 0ea447efd677fb9f4d3de0934c46ed6bfa3ac881ecdd826c7b9d47ef13a00cc2\n",
            "------------------------------\n"
          ]
        }
      ],
      "source": [
        "# Let's write the complete Python code for a simple blockchain with text-based visualization.\n",
        "\n",
        "import hashlib\n",
        "import json\n",
        "from time import time\n",
        "\n",
        "# Function to create a new block\n",
        "def create_block(data, previous_hash):\n",
        "    block = {\n",
        "        'timestamp': time(),\n",
        "        'data': data,\n",
        "        'previous_hash': previous_hash,\n",
        "    }\n",
        "    block['hash'] = hashlib.sha256(json.dumps(block, sort_keys=True).encode()).hexdigest()\n",
        "    return block\n",
        "\n",
        "# Function to add a block to the blockchain\n",
        "def add_block(data, blockchain):\n",
        "    last_block = blockchain[-1]\n",
        "    new_block = create_block(data, last_block['hash'])\n",
        "    blockchain.append(new_block)\n",
        "\n",
        "# Function to check if the blockchain is valid\n",
        "def check_chain(blockchain):\n",
        "    for i in range(1, len(blockchain)):\n",
        "        if blockchain[i]['previous_hash'] != blockchain[i-1]['hash']:\n",
        "            return False\n",
        "    return True\n",
        "\n",
        "# Function to visualize the blockchain\n",
        "def visualize_blockchain(blockchain):\n",
        "    for i, block in enumerate(blockchain):\n",
        "        print(f\"Block {i}:\")\n",
        "        print(f\"  Timestamp: {block['timestamp']}\")\n",
        "        print(f\"  Data: {block['data']}\")\n",
        "        print(f\"  Previous Hash: {block['previous_hash']}\")\n",
        "        print(f\"  Hash: {block['hash']}\")\n",
        "        print(\"---\" * 10)\n",
        "\n",
        "# Create the blockchain and add the genesis block\n",
        "blockchain = []\n",
        "genesis_block = create_block(data=\"Genesis Block\", previous_hash=\"0\")\n",
        "blockchain.append(genesis_block)\n",
        "\n",
        "# Add some blocks\n",
        "add_block(\"Nemesis Block\", blockchain)\n",
        "add_block(\"Socket Run Block\", blockchain)\n",
        "add_block(\"Custom Action Block\", blockchain)\n",
        "\n",
        "# Check and visualize the blockchain\n",
        "if check_chain(blockchain):\n",
        "    print(\"Blockchain is valid\")\n",
        "    visualize_blockchain(blockchain)\n",
        "else:\n",
        "    print(\"Blockchain is not valid\")\n",
        "\n",
        "# The code should create a simple blockchain, add some blocks, validate the chain, and then visualize it.\n"
      ]
    }
  ]
}