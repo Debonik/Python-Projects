{
  "nbformat": 4,
  "nbformat_minor": 0,
  "metadata": {
    "colab": {
      "provenance": [],
      "authorship_tag": "ABX9TyMilNQCT+cMn0KDsTXMW00N",
      "include_colab_link": true
    },
    "kernelspec": {
      "name": "python3",
      "display_name": "Python 3"
    },
    "language_info": {
      "name": "python"
    }
  },
  "cells": [
    {
      "cell_type": "markdown",
      "metadata": {
        "id": "view-in-github",
        "colab_type": "text"
      },
      "source": [
        "<a href=\"https://colab.research.google.com/github/Debonik/Python-Projects/blob/main/Password%20Generator/Password_Generator.ipynb\" target=\"_parent\"><img src=\"https://colab.research.google.com/assets/colab-badge.svg\" alt=\"Open In Colab\"/></a>"
      ]
    },
    {
      "cell_type": "code",
      "execution_count": 1,
      "metadata": {
        "colab": {
          "base_uri": "https://localhost:8080/"
        },
        "id": "Tuvf6crPS_Dk",
        "outputId": "d7344c0d-62f1-4f3b-b853-59cae0af16c5"
      },
      "outputs": [
        {
          "output_type": "stream",
          "name": "stdout",
          "text": [
            "Generated Password: :3#LTI?J|JwH\n"
          ]
        }
      ],
      "source": [
        "import random\n",
        "import string\n",
        "\n",
        "def generate_password(length):\n",
        "    characters = string.ascii_letters + string.digits + string.punctuation\n",
        "    password = ''.join(random.choice(characters) for i in range(length))\n",
        "    return password\n",
        "\n",
        "# Specify the length of the password\n",
        "password_length = 12  # You can change this number\n",
        "\n",
        "# Generate and print the password\n",
        "generated_password = generate_password(password_length)\n",
        "print(f\"Generated Password: {generated_password}\")"
      ]
    },
    {
      "cell_type": "code",
      "source": [
        "import random\n",
        "import string\n",
        "\n",
        "def generate_password(length):\n",
        "    characters = string.ascii_letters + string.digits + string.punctuation\n",
        "    password = ''.join(random.choice(characters) for i in range(length))\n",
        "    return password\n",
        "\n",
        "# Checking the password strength\n",
        "\n",
        "def check_password_strength(password):\n",
        "    strength = 'Weak'\n",
        "    if len(password) >= 8:\n",
        "        if any(char.islower() for char in password) and any(char.isupper() for char in password):\n",
        "            if any(char.isdigit() for char in password):\n",
        "                if any(char in string.punctuation for char in password):\n",
        "                    strength = 'Very Strong'\n",
        "                else:\n",
        "                    strength = 'Strong'\n",
        "            else:\n",
        "                strength = 'Moderate'\n",
        "    return strength\n",
        "\n",
        "# Specify the length of the password\n",
        "password_length = 12  # You can change this number\n",
        "\n",
        "# Generate and print the password\n",
        "generated_password = generate_password(password_length)\n",
        "print(f\"Generated Password: {generated_password}\")\n",
        "\n",
        "# Check and print the password strength\n",
        "password_strength = check_password_strength(generated_password)\n",
        "print(f\"Password Strength: {password_strength}\")"
      ],
      "metadata": {
        "colab": {
          "base_uri": "https://localhost:8080/"
        },
        "id": "59RUpyQ8Wgh6",
        "outputId": "02541fdb-ff04-46be-9c25-b69013f2f2b3"
      },
      "execution_count": 4,
      "outputs": [
        {
          "output_type": "stream",
          "name": "stdout",
          "text": [
            "Generated Password: Dlz-cJTVh7nI\n",
            "Password Strength: Very Strong\n"
          ]
        }
      ]
    }
  ]
}